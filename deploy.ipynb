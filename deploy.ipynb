{
  "nbformat": 4,
  "nbformat_minor": 0,
  "metadata": {
    "colab": {
      "provenance": []
    },
    "kernelspec": {
      "name": "python3",
      "display_name": "Python 3"
    },
    "language_info": {
      "name": "python"
    },
    "accelerator": "GPU",
    "gpuClass": "standard"
  },
  "cells": [
    {
      "cell_type": "markdown",
      "source": [
        "*Click the Play button below, wait for green tick and upload the X-ray image in the deployed app.*"
      ],
      "metadata": {
        "id": "ZBCbqFNqi4Zm"
      }
    },
    {
      "cell_type": "code",
      "execution_count": null,
      "metadata": {
        "id": "lllCpo0vSFB_",
        "colab": {
          "base_uri": "https://localhost:8080/",
          "height": 572
        },
        "outputId": "4da8220e-eb57-484f-b7e7-62a29b4dcae1"
      },
      "outputs": [
        {
          "output_type": "stream",
          "name": "stdout",
          "text": [
            "Looking in indexes: https://pypi.org/simple, https://us-python.pkg.dev/colab-wheels/public/simple/\n",
            "Requirement already satisfied: anvil-uplink in /usr/local/lib/python3.8/dist-packages (0.4.1)\n",
            "Collecting argparse\n",
            "  Using cached argparse-1.4.0-py2.py3-none-any.whl (23 kB)\n",
            "Requirement already satisfied: ws4py in /usr/local/lib/python3.8/dist-packages (from anvil-uplink) (0.5.1)\n",
            "Requirement already satisfied: six in /usr/local/lib/python3.8/dist-packages (from anvil-uplink) (1.15.0)\n",
            "Requirement already satisfied: future in /usr/local/lib/python3.8/dist-packages (from anvil-uplink) (0.16.0)\n",
            "Installing collected packages: argparse\n",
            "Successfully installed argparse-1.4.0\n"
          ]
        },
        {
          "output_type": "display_data",
          "data": {
            "application/vnd.colab-display-data+json": {
              "pip_warning": {
                "packages": [
                  "argparse"
                ]
              }
            }
          },
          "metadata": {}
        },
        {
          "output_type": "stream",
          "name": "stdout",
          "text": [
            "Looking in indexes: https://pypi.org/simple, https://us-python.pkg.dev/colab-wheels/public/simple/\n",
            "Requirement already satisfied: gdown in /usr/local/lib/python3.8/dist-packages (4.6.0)\n",
            "Requirement already satisfied: beautifulsoup4 in /usr/local/lib/python3.8/dist-packages (from gdown) (4.6.3)\n",
            "Requirement already satisfied: tqdm in /usr/local/lib/python3.8/dist-packages (from gdown) (4.64.1)\n",
            "Requirement already satisfied: filelock in /usr/local/lib/python3.8/dist-packages (from gdown) (3.8.2)\n",
            "Requirement already satisfied: six in /usr/local/lib/python3.8/dist-packages (from gdown) (1.15.0)\n",
            "Requirement already satisfied: requests[socks] in /usr/local/lib/python3.8/dist-packages (from gdown) (2.25.1)\n",
            "Requirement already satisfied: certifi>=2017.4.17 in /usr/local/lib/python3.8/dist-packages (from requests[socks]->gdown) (2022.12.7)\n",
            "Requirement already satisfied: chardet<5,>=3.0.2 in /usr/local/lib/python3.8/dist-packages (from requests[socks]->gdown) (4.0.0)\n",
            "Requirement already satisfied: idna<3,>=2.5 in /usr/local/lib/python3.8/dist-packages (from requests[socks]->gdown) (2.10)\n",
            "Requirement already satisfied: urllib3<1.27,>=1.21.1 in /usr/local/lib/python3.8/dist-packages (from requests[socks]->gdown) (1.24.3)\n",
            "Requirement already satisfied: PySocks!=1.5.7,>=1.5.6 in /usr/local/lib/python3.8/dist-packages (from requests[socks]->gdown) (1.7.1)\n",
            "Downloading...\n",
            "From: https://drive.google.com/uc?id=1I4XBcOZha5jhqopEPY9JWIioFGVHG37C&confirm=t\n",
            "To: /content/pneumonia.pt\n",
            "100% 28.4M/28.4M [00:00<00:00, 153MB/s] \n"
          ]
        }
      ],
      "source": [
        "# imports\n",
        "import torch\n",
        "import torchvision\n",
        "import numpy as np\n",
        "import pandas as pd\n",
        "import os\n",
        "import matplotlib.pyplot as plt\n",
        "from torch.utils.data import DataLoader\n",
        "from torchvision.utils import make_grid\n",
        "from tqdm import tqdm\n",
        "from torchvision import transforms, datasets\n",
        "\n",
        "# from google.colab import files\n",
        "# print(\"UPLOAD MODEL : \")\n",
        "# uploaded = files.upload()\n",
        "\n",
        "!pip install anvil-uplink\n",
        "!pip install --upgrade --no-cache-dir gdown\n",
        "\n",
        "import anvil.server\n",
        "anvil.server.connect(\"H66XJPDKGWVA4QKWQALN3KQO-AGUAQDNI26FFVN62\")\n",
        "\n",
        "id = \"1I4XBcOZha5jhqopEPY9JWIioFGVHG37C\"\n",
        "# https://drive.google.com/file/d/1I4XBcOZha5jhqopEPY9JWIioFGVHG37C/view?usp=sharing\n",
        "# file_download_link = \"https://docs.google.com/uc?export=download&id=\" + id \n",
        "\n",
        "# !wget -O pneumonia.zip \"$file_download_link\"\n",
        "\n",
        "!gdown \"1I4XBcOZha5jhqopEPY9JWIioFGVHG37C&confirm=t\"\n",
        "\n",
        "import anvil.media\n",
        "from PIL import Image\n",
        "\n",
        "@anvil.server.callable\n",
        "def predict(file):\n",
        "  with anvil.media.TempFile(file) as fileName:\n",
        "    img = Image.open(fileName)\n",
        "    img = img.convert('RGB')\n",
        "\n",
        "  transform = transforms.Compose([\n",
        "    transforms.Resize((224, 224)),\n",
        "    transforms.ToTensor(),\n",
        "    transforms.Normalize([0.485, 0.456, 0.406],[0.229, 0.224, 0.225])\n",
        "    ])\n",
        "\n",
        "  device = torch.device(\"cuda:0\" if torch.cuda.is_available() else \"cpu\")\n",
        "  model = torchvision.models.densenet121(pretrained=True).to(device)\n",
        "\n",
        "  features = model.classifier.in_features\n",
        "  model.classifier = torch.nn.Linear(features, 2).to(device)\n",
        "\n",
        "  model.load_state_dict(torch.load('/content/pneumonia.pt'))   \n",
        "\n",
        "  img = transform(img).to(device)\n",
        "\n",
        "  out = model(img.unsqueeze(0))\n",
        "  pred = torch.max(out, 1)[1]\n",
        "\n",
        "  if pred == 0:\n",
        "    return \"Pneumonia not Detected.\"\n",
        "  elif pred == 1:\n",
        "    return \"Penumonia Detected\"\n",
        "\n"
      ]
    }
  ]
}